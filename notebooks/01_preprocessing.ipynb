{
 "cells": [
  {
   "cell_type": "code",
   "execution_count": 1,
   "id": "66999771-c4f3-40d5-9847-6a9cc6c0278e",
   "metadata": {},
   "outputs": [],
   "source": [
    "#Constants\n",
    "DATA_PATH = 'C:/Users/moham/Downloads/mohamed/machinefy_project/data/raw/survey_results_public.csv'\n",
    "EXPORT_PATH = 'C:/Users/moham/Downloads/mohamed/machinefy_project/data/preprocessing/1_preprocessing_df.pkl'\n",
    "\n",
    "REPLACE_DICT = {\n",
    "    'Age1stCode' : {'Younger than 5 years':4, 'Older than 85':86},\n",
    "    'YearsCode'  : {'Less than 1 year':0, 'More than 50 years':51},\n",
    "    'YearsCodePro' : {'Less than 1 year' : 0 , 'More than 50 years': 51}}"
   ]
  },
  {
   "cell_type": "code",
   "execution_count": 2,
   "id": "d9e4a17a-2e59-4087-8e29-e269bc3c5843",
   "metadata": {},
   "outputs": [],
   "source": [
    "#Load Packages\n",
    "import pandas as pd \n",
    "import numpy as np \n",
    "import logging\n",
    "import pickle\n",
    "\n",
    "pd.set_option('display.max_columns', 1000)\n",
    "pd.set_option('display.max_rows', 1000)"
   ]
  },
  {
   "cell_type": "markdown",
   "id": "3dc036fb-753e-4f18-8627-d03c3e52260d",
   "metadata": {},
   "source": [
    "Functions"
   ]
  },
  {
   "cell_type": "code",
   "execution_count": 5,
   "id": "8ec31331-d7e8-4b0e-a913-e868a6bf771b",
   "metadata": {},
   "outputs": [],
   "source": [
    "def split_answers(data_series, delimiter=';'):\n",
    "    \"\"\"\n",
    "    Split multiple answers in  a single string\n",
    "    to a list of single strings each represnting a singel answer\n",
    "    \n",
    "    Parameters:\n",
    "    * data_series (pd.Series) : String series with answers\n",
    "    * delimiter (string)  : Another decimal integer Default to \";\"\n",
    "    \n",
    "    Returns : (pd.Series): If column contains\n",
    "    \"\"\"\n",
    "    \n",
    "    #Sub functions\n",
    "    \n",
    "    def is_splittable(pd_series, delimiter):\n",
    "        \"\"\" Check if result multiple should be splitted  - Return boolean \"\"\"\n",
    "        return pd_series.str.contains(delimiter)\n",
    "    \n",
    "    \n",
    "    def is_splittable(pd_series, delimiter):\n",
    "        \"\"\" function to split single answer \"\"\"\n",
    "        return pd_series.str.split(delimiter)\n",
    "    \n",
    "    \n",
    "    # -----------------------------------------------------\n",
    "    \n",
    "    \n",
    "    #Check if multiple answer exist - if none: return original\n",
    "    splitted_values = is_splittable(data_series, delimiter)\n",
    "    if not splitted_values.any():\n",
    "        return data_series\n",
    "    \n",
    "    #Else, split each value to a list\n",
    "    modified_series = split_answers(data_series , delimiter)\n",
    "    \n",
    "    #Replace NAs with empty lists\n",
    "    mask_null = modified_series.isnull()\n",
    "    modified_series.loc[mask_null] = modified_series.loc[mask_null].apply(lambda x: [])\n",
    "    \n",
    "    return modified_series"
   ]
  },
  {
   "cell_type": "markdown",
   "id": "22727bd8-f4f8-4f8f-94e6-8867d2eb5380",
   "metadata": {},
   "source": [
    "Proccessing"
   ]
  },
  {
   "cell_type": "markdown",
   "id": "0d13c325-f8db-435f-8cd2-5a4944f7a39f",
   "metadata": {},
   "source": [
    "Preprocess Data"
   ]
  },
  {
   "cell_type": "code",
   "execution_count": 7,
   "id": "4702ff00-a5de-46c1-a53c-a7f319f9a70d",
   "metadata": {},
   "outputs": [],
   "source": [
    "raw_df = pd.read_csv(DATA_PATH)\n",
    "df = raw_df.copy()"
   ]
  },
  {
   "cell_type": "markdown",
   "id": "be62443b-c792-4c34-8c5f-09a23caaab23",
   "metadata": {},
   "source": [
    "1 - Replace Values and Parse"
   ]
  },
  {
   "cell_type": "code",
   "execution_count": 8,
   "id": "807394ec-9d22-48fe-98e6-fcecea20306c",
   "metadata": {},
   "outputs": [],
   "source": [
    "for col, replacment in REPLACE_DICT.items():\n",
    "    df[col] = df[col].replace(replacment).astype(np.float32)"
   ]
  },
  {
   "cell_type": "markdown",
   "id": "c6e906e0-df6b-4fb4-983b-613e29a4f89f",
   "metadata": {},
   "source": [
    "2 - Split multible answers"
   ]
  },
  {
   "cell_type": "code",
   "execution_count": null,
   "id": "88ee3d7d-5900-4d67-a8b0-816bf5c30d65",
   "metadata": {},
   "outputs": [],
   "source": [
    "object_cols = df.select_dtypes(include = 'object').columns.tolist()\n",
    "for col in object_cols:\n",
    "    df[col] = split_answers(df[col])"
   ]
  },
  {
   "cell_type": "markdown",
   "id": "37148fdc-84c9-4910-8680-1b31ef7605a4",
   "metadata": {},
   "source": [
    "Expoert Data"
   ]
  },
  {
   "cell_type": "code",
   "execution_count": null,
   "id": "54743433-d125-4f22-8df5-12b3c5a0e89a",
   "metadata": {},
   "outputs": [],
   "source": [
    "df.to_pickle(EXPORT_PATH)"
   ]
  },
  {
   "cell_type": "code",
   "execution_count": null,
   "id": "820b96ea-b5d9-4fcb-b11e-56a35f1f7e8f",
   "metadata": {},
   "outputs": [],
   "source": []
  }
 ],
 "metadata": {
  "kernelspec": {
   "display_name": "Python 3",
   "language": "python",
   "name": "python3"
  },
  "language_info": {
   "codemirror_mode": {
    "name": "ipython",
    "version": 3
   },
   "file_extension": ".py",
   "mimetype": "text/x-python",
   "name": "python",
   "nbconvert_exporter": "python",
   "pygments_lexer": "ipython3",
   "version": "3.8.8"
  }
 },
 "nbformat": 4,
 "nbformat_minor": 5
}
